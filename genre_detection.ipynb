{
 "cells": [
  {
   "cell_type": "markdown",
   "id": "88bb9a7d",
   "metadata": {},
   "source": [
    "Before you turn this problem in, make sure everything runs as expected. First, **restart the kernel** (in the menubar, select Kernel $\\rightarrow$ Restart) and then **run all cells** (in the menubar, select Cell $\\rightarrow$ Run All).\n",
    "\n",
    "Make sure you fill in any place that says `YOUR CODE HERE` or \"YOUR ANSWER HERE\", as well as your name and collaborators below:"
   ]
  },
  {
   "cell_type": "code",
   "execution_count": 1,
   "id": "b2ca2d6f",
   "metadata": {},
   "outputs": [],
   "source": [
    "NAME = \"Abigail Villacorta\"\n",
    "COLLABORATORS = \"None\""
   ]
  },
  {
   "cell_type": "markdown",
   "id": "d49f1254",
   "metadata": {},
   "source": [
    "---"
   ]
  },
  {
   "cell_type": "code",
   "execution_count": 22,
   "id": "3e09917a-0470-432e-8039-e867a38e3756",
   "metadata": {},
   "outputs": [
    {
     "name": "stdout",
     "output_type": "stream",
     "text": [
      "Defaulting to user installation because normal site-packages is not writeable\n",
      "Requirement already satisfied: librosa in /home/aev64/.local/lib/python3.12/site-packages (0.10.2.post1)\n",
      "Requirement already satisfied: pandas in /usr/lib/anaconda3/lib/python3.12/site-packages (2.2.2)\n",
      "Requirement already satisfied: numpy in /usr/lib/anaconda3/lib/python3.12/site-packages (1.26.4)\n",
      "Requirement already satisfied: matplotlib in /usr/lib/anaconda3/lib/python3.12/site-packages (3.8.4)\n",
      "Requirement already satisfied: seaborn in /usr/lib/anaconda3/lib/python3.12/site-packages (0.13.2)\n",
      "Requirement already satisfied: scikit-learn in /usr/lib/anaconda3/lib/python3.12/site-packages (1.4.2)\n",
      "Requirement already satisfied: tensorflow in /home/aev64/.local/lib/python3.12/site-packages (2.18.0)\n",
      "Requirement already satisfied: sqlalchemy in /usr/lib/anaconda3/lib/python3.12/site-packages (2.0.30)\n",
      "Requirement already satisfied: audioread>=2.1.9 in /home/aev64/.local/lib/python3.12/site-packages (from librosa) (3.0.1)\n",
      "Requirement already satisfied: scipy>=1.2.0 in /usr/lib/anaconda3/lib/python3.12/site-packages (from librosa) (1.13.1)\n",
      "Requirement already satisfied: joblib>=0.14 in /usr/lib/anaconda3/lib/python3.12/site-packages (from librosa) (1.4.2)\n",
      "Requirement already satisfied: decorator>=4.3.0 in /usr/lib/anaconda3/lib/python3.12/site-packages (from librosa) (5.1.1)\n",
      "Requirement already satisfied: numba>=0.51.0 in /usr/lib/anaconda3/lib/python3.12/site-packages (from librosa) (0.59.1)\n",
      "Requirement already satisfied: soundfile>=0.12.1 in /home/aev64/.local/lib/python3.12/site-packages (from librosa) (0.12.1)\n",
      "Requirement already satisfied: pooch>=1.1 in /home/aev64/.local/lib/python3.12/site-packages (from librosa) (1.8.2)\n",
      "Requirement already satisfied: soxr>=0.3.2 in /home/aev64/.local/lib/python3.12/site-packages (from librosa) (0.5.0.post1)\n",
      "Requirement already satisfied: typing-extensions>=4.1.1 in /usr/lib/anaconda3/lib/python3.12/site-packages (from librosa) (4.11.0)\n",
      "Requirement already satisfied: lazy-loader>=0.1 in /usr/lib/anaconda3/lib/python3.12/site-packages (from librosa) (0.4)\n",
      "Requirement already satisfied: msgpack>=1.0 in /usr/lib/anaconda3/lib/python3.12/site-packages (from librosa) (1.0.3)\n",
      "Requirement already satisfied: python-dateutil>=2.8.2 in /usr/lib/anaconda3/lib/python3.12/site-packages (from pandas) (2.9.0.post0)\n",
      "Requirement already satisfied: pytz>=2020.1 in /usr/lib/anaconda3/lib/python3.12/site-packages (from pandas) (2024.1)\n",
      "Requirement already satisfied: tzdata>=2022.7 in /usr/lib/anaconda3/lib/python3.12/site-packages (from pandas) (2023.3)\n",
      "Requirement already satisfied: contourpy>=1.0.1 in /usr/lib/anaconda3/lib/python3.12/site-packages (from matplotlib) (1.2.0)\n",
      "Requirement already satisfied: cycler>=0.10 in /usr/lib/anaconda3/lib/python3.12/site-packages (from matplotlib) (0.11.0)\n",
      "Requirement already satisfied: fonttools>=4.22.0 in /usr/lib/anaconda3/lib/python3.12/site-packages (from matplotlib) (4.51.0)\n",
      "Requirement already satisfied: kiwisolver>=1.3.1 in /usr/lib/anaconda3/lib/python3.12/site-packages (from matplotlib) (1.4.4)\n",
      "Requirement already satisfied: packaging>=20.0 in /usr/lib/anaconda3/lib/python3.12/site-packages (from matplotlib) (23.2)\n",
      "Requirement already satisfied: pillow>=8 in /usr/lib/anaconda3/lib/python3.12/site-packages (from matplotlib) (10.3.0)\n",
      "Requirement already satisfied: pyparsing>=2.3.1 in /usr/lib/anaconda3/lib/python3.12/site-packages (from matplotlib) (3.0.9)\n",
      "Requirement already satisfied: threadpoolctl>=2.0.0 in /usr/lib/anaconda3/lib/python3.12/site-packages (from scikit-learn) (2.2.0)\n",
      "Requirement already satisfied: absl-py>=1.0.0 in /home/aev64/.local/lib/python3.12/site-packages (from tensorflow) (2.1.0)\n",
      "Requirement already satisfied: astunparse>=1.6.0 in /home/aev64/.local/lib/python3.12/site-packages (from tensorflow) (1.6.3)\n",
      "Requirement already satisfied: flatbuffers>=24.3.25 in /home/aev64/.local/lib/python3.12/site-packages (from tensorflow) (24.3.25)\n",
      "Requirement already satisfied: gast!=0.5.0,!=0.5.1,!=0.5.2,>=0.2.1 in /home/aev64/.local/lib/python3.12/site-packages (from tensorflow) (0.6.0)\n",
      "Requirement already satisfied: google-pasta>=0.1.1 in /home/aev64/.local/lib/python3.12/site-packages (from tensorflow) (0.2.0)\n",
      "Requirement already satisfied: libclang>=13.0.0 in /home/aev64/.local/lib/python3.12/site-packages (from tensorflow) (18.1.1)\n",
      "Requirement already satisfied: opt-einsum>=2.3.2 in /home/aev64/.local/lib/python3.12/site-packages (from tensorflow) (3.4.0)\n",
      "Requirement already satisfied: protobuf!=4.21.0,!=4.21.1,!=4.21.2,!=4.21.3,!=4.21.4,!=4.21.5,<6.0.0dev,>=3.20.3 in /usr/lib/anaconda3/lib/python3.12/site-packages (from tensorflow) (3.20.3)\n",
      "Requirement already satisfied: requests<3,>=2.21.0 in /usr/lib/anaconda3/lib/python3.12/site-packages (from tensorflow) (2.32.2)\n",
      "Requirement already satisfied: setuptools in /usr/lib/anaconda3/lib/python3.12/site-packages (from tensorflow) (69.5.1)\n",
      "Requirement already satisfied: six>=1.12.0 in /usr/lib/anaconda3/lib/python3.12/site-packages (from tensorflow) (1.16.0)\n",
      "Requirement already satisfied: termcolor>=1.1.0 in /home/aev64/.local/lib/python3.12/site-packages (from tensorflow) (2.5.0)\n",
      "Requirement already satisfied: wrapt>=1.11.0 in /usr/lib/anaconda3/lib/python3.12/site-packages (from tensorflow) (1.14.1)\n",
      "Requirement already satisfied: grpcio<2.0,>=1.24.3 in /home/aev64/.local/lib/python3.12/site-packages (from tensorflow) (1.68.1)\n",
      "Requirement already satisfied: tensorboard<2.19,>=2.18 in /home/aev64/.local/lib/python3.12/site-packages (from tensorflow) (2.18.0)\n",
      "Requirement already satisfied: keras>=3.5.0 in /home/aev64/.local/lib/python3.12/site-packages (from tensorflow) (3.7.0)\n",
      "Requirement already satisfied: h5py>=3.11.0 in /usr/lib/anaconda3/lib/python3.12/site-packages (from tensorflow) (3.11.0)\n",
      "Requirement already satisfied: ml-dtypes<0.5.0,>=0.4.0 in /home/aev64/.local/lib/python3.12/site-packages (from tensorflow) (0.4.1)\n",
      "Requirement already satisfied: greenlet!=0.4.17 in /usr/lib/anaconda3/lib/python3.12/site-packages (from sqlalchemy) (3.0.1)\n",
      "Requirement already satisfied: wheel<1.0,>=0.23.0 in /usr/lib/anaconda3/lib/python3.12/site-packages (from astunparse>=1.6.0->tensorflow) (0.43.0)\n",
      "Requirement already satisfied: rich in /usr/lib/anaconda3/lib/python3.12/site-packages (from keras>=3.5.0->tensorflow) (13.3.5)\n",
      "Requirement already satisfied: namex in /home/aev64/.local/lib/python3.12/site-packages (from keras>=3.5.0->tensorflow) (0.0.8)\n",
      "Requirement already satisfied: optree in /home/aev64/.local/lib/python3.12/site-packages (from keras>=3.5.0->tensorflow) (0.13.1)\n",
      "Requirement already satisfied: llvmlite<0.43,>=0.42.0dev0 in /usr/lib/anaconda3/lib/python3.12/site-packages (from numba>=0.51.0->librosa) (0.42.0)\n",
      "Requirement already satisfied: platformdirs>=2.5.0 in /usr/lib/anaconda3/lib/python3.12/site-packages (from pooch>=1.1->librosa) (3.10.0)\n",
      "Requirement already satisfied: charset-normalizer<4,>=2 in /usr/lib/anaconda3/lib/python3.12/site-packages (from requests<3,>=2.21.0->tensorflow) (2.0.4)\n",
      "Requirement already satisfied: idna<4,>=2.5 in /usr/lib/anaconda3/lib/python3.12/site-packages (from requests<3,>=2.21.0->tensorflow) (3.7)\n",
      "Requirement already satisfied: urllib3<3,>=1.21.1 in /usr/lib/anaconda3/lib/python3.12/site-packages (from requests<3,>=2.21.0->tensorflow) (2.2.2)\n",
      "Requirement already satisfied: certifi>=2017.4.17 in /usr/lib/anaconda3/lib/python3.12/site-packages (from requests<3,>=2.21.0->tensorflow) (2024.7.4)\n",
      "Requirement already satisfied: cffi>=1.0 in /usr/lib/anaconda3/lib/python3.12/site-packages (from soundfile>=0.12.1->librosa) (1.16.0)\n",
      "Requirement already satisfied: markdown>=2.6.8 in /usr/lib/anaconda3/lib/python3.12/site-packages (from tensorboard<2.19,>=2.18->tensorflow) (3.4.1)\n",
      "Requirement already satisfied: tensorboard-data-server<0.8.0,>=0.7.0 in /home/aev64/.local/lib/python3.12/site-packages (from tensorboard<2.19,>=2.18->tensorflow) (0.7.2)\n",
      "Requirement already satisfied: werkzeug>=1.0.1 in /usr/lib/anaconda3/lib/python3.12/site-packages (from tensorboard<2.19,>=2.18->tensorflow) (3.0.3)\n",
      "Requirement already satisfied: pycparser in /usr/lib/anaconda3/lib/python3.12/site-packages (from cffi>=1.0->soundfile>=0.12.1->librosa) (2.21)\n",
      "Requirement already satisfied: MarkupSafe>=2.1.1 in /usr/lib/anaconda3/lib/python3.12/site-packages (from werkzeug>=1.0.1->tensorboard<2.19,>=2.18->tensorflow) (2.1.3)\n",
      "Requirement already satisfied: markdown-it-py<3.0.0,>=2.2.0 in /usr/lib/anaconda3/lib/python3.12/site-packages (from rich->keras>=3.5.0->tensorflow) (2.2.0)\n",
      "Requirement already satisfied: pygments<3.0.0,>=2.13.0 in /usr/lib/anaconda3/lib/python3.12/site-packages (from rich->keras>=3.5.0->tensorflow) (2.15.1)\n",
      "Requirement already satisfied: mdurl~=0.1 in /usr/lib/anaconda3/lib/python3.12/site-packages (from markdown-it-py<3.0.0,>=2.2.0->rich->keras>=3.5.0->tensorflow) (0.1.0)\n",
      "Note: you may need to restart the kernel to use updated packages.\n"
     ]
    }
   ],
   "source": [
    "pip install librosa pandas numpy matplotlib seaborn scikit-learn tensorflow sqlalchemy"
   ]
  },
  {
   "cell_type": "code",
   "execution_count": 23,
   "id": "6741e750-c93d-4079-97f3-0fa9ac832058",
   "metadata": {},
   "outputs": [],
   "source": [
    "# Import these libraries\n",
    "import os\n",
    "import pandas as pd\n",
    "import numpy as np\n",
    "import librosa\n",
    "import librosa.display\n",
    "import matplotlib.pyplot as plt\n",
    "import seaborn as sns\n",
    "from sklearn.model_selection import train_test_split\n",
    "from sklearn.preprocessing import StandardScaler\n",
    "from sklearn.metrics import accuracy_score, classification_report\n",
    "from tensorflow.keras.models import Sequential\n",
    "from tensorflow.keras.layers import Dense, Dropout, Flatten\n",
    "from tensorflow.keras.utils import to_categorical\n",
    "from sqlalchemy import create_engine"
   ]
  },
  {
   "cell_type": "code",
   "execution_count": 4,
   "id": "6398d5ce-0288-43f0-a784-5c4f208534f1",
   "metadata": {},
   "outputs": [
    {
     "name": "stdout",
     "output_type": "stream",
     "text": [
      "30-sec Dataset:\n",
      "          filename  length  chroma_stft_mean  chroma_stft_var  rms_mean  \\\n",
      "0  blues.00000.wav  661794          0.350088         0.088757  0.130228   \n",
      "1  blues.00001.wav  661794          0.340914         0.094980  0.095948   \n",
      "2  blues.00002.wav  661794          0.363637         0.085275  0.175570   \n",
      "3  blues.00003.wav  661794          0.404785         0.093999  0.141093   \n",
      "4  blues.00004.wav  661794          0.308526         0.087841  0.091529   \n",
      "\n",
      "    rms_var  spectral_centroid_mean  spectral_centroid_var  \\\n",
      "0  0.002827             1784.165850          129774.064525   \n",
      "1  0.002373             1530.176679          375850.073649   \n",
      "2  0.002746             1552.811865          156467.643368   \n",
      "3  0.006346             1070.106615          184355.942417   \n",
      "4  0.002303             1835.004266          343399.939274   \n",
      "\n",
      "   spectral_bandwidth_mean  spectral_bandwidth_var  ...  mfcc16_var  \\\n",
      "0              2002.449060            85882.761315  ...   52.420910   \n",
      "1              2039.036516           213843.755497  ...   55.356403   \n",
      "2              1747.702312            76254.192257  ...   40.598766   \n",
      "3              1596.412872           166441.494769  ...   44.427753   \n",
      "4              1748.172116            88445.209036  ...   86.099236   \n",
      "\n",
      "   mfcc17_mean  mfcc17_var  mfcc18_mean  mfcc18_var  mfcc19_mean  mfcc19_var  \\\n",
      "0    -1.690215   36.524071    -0.408979   41.597103    -2.303523   55.062923   \n",
      "1    -0.731125   60.314529     0.295073   48.120598    -0.283518   51.106190   \n",
      "2    -7.729093   47.639427    -1.816407   52.382141    -3.439720   46.639660   \n",
      "3    -3.319597   50.206673     0.636965   37.319130    -0.619121   37.259739   \n",
      "4    -5.454034   75.269707    -0.916874   53.613918    -4.404827   62.910812   \n",
      "\n",
      "   mfcc20_mean  mfcc20_var  label  \n",
      "0     1.221291   46.936035  blues  \n",
      "1     0.531217   45.786282  blues  \n",
      "2    -2.231258   30.573025  blues  \n",
      "3    -3.407448   31.949339  blues  \n",
      "4   -11.703234   55.195160  blues  \n",
      "\n",
      "[5 rows x 60 columns]\n",
      "\n",
      "3-sec Dataset:\n",
      "            filename  length  chroma_stft_mean  chroma_stft_var  rms_mean  \\\n",
      "0  blues.00000.0.wav   66149          0.335406         0.091048  0.130405   \n",
      "1  blues.00000.1.wav   66149          0.343065         0.086147  0.112699   \n",
      "2  blues.00000.2.wav   66149          0.346815         0.092243  0.132003   \n",
      "3  blues.00000.3.wav   66149          0.363639         0.086856  0.132565   \n",
      "4  blues.00000.4.wav   66149          0.335579         0.088129  0.143289   \n",
      "\n",
      "    rms_var  spectral_centroid_mean  spectral_centroid_var  \\\n",
      "0  0.003521             1773.065032          167541.630869   \n",
      "1  0.001450             1816.693777           90525.690866   \n",
      "2  0.004620             1788.539719          111407.437613   \n",
      "3  0.002448             1655.289045          111952.284517   \n",
      "4  0.001701             1630.656199           79667.267654   \n",
      "\n",
      "   spectral_bandwidth_mean  spectral_bandwidth_var  ...  mfcc16_var  \\\n",
      "0              1972.744388           117335.771563  ...   39.687145   \n",
      "1              2010.051501            65671.875673  ...   64.748276   \n",
      "2              2084.565132            75124.921716  ...   67.336563   \n",
      "3              1960.039988            82913.639269  ...   47.739452   \n",
      "4              1948.503884            60204.020268  ...   30.336359   \n",
      "\n",
      "   mfcc17_mean  mfcc17_var  mfcc18_mean  mfcc18_var  mfcc19_mean  mfcc19_var  \\\n",
      "0    -3.241280   36.488243     0.722209   38.099152    -5.050335   33.618073   \n",
      "1    -6.055294   40.677654     0.159015   51.264091    -2.837699   97.030830   \n",
      "2    -1.768610   28.348579     2.378768   45.717648    -1.938424   53.050835   \n",
      "3    -3.841155   28.337118     1.218588   34.770935    -3.580352   50.836224   \n",
      "4     0.664582   45.880913     1.689446   51.363583    -3.392489   26.738789   \n",
      "\n",
      "   mfcc20_mean  mfcc20_var  label  \n",
      "0    -0.243027   43.771767  blues  \n",
      "1     5.784063   59.943081  blues  \n",
      "2     2.517375   33.105122  blues  \n",
      "3     3.630866   32.023678  blues  \n",
      "4     0.536961   29.146694  blues  \n",
      "\n",
      "[5 rows x 60 columns]\n"
     ]
    }
   ],
   "source": [
    "# Define file paths\n",
    "base_path = \"/home/aev64/cs210/Course Project - Final Submissions\"\n",
    "csv_30_sec_path = os.path.join(base_path, \"features_30_sec.csv\")\n",
    "csv_3_sec_path = os.path.join(base_path, \"features_3_sec.csv\")\n",
    "\n",
    "# Load datasets\n",
    "features_30_sec_df = pd.read_csv(csv_30_sec_path)\n",
    "features_3_sec_df = pd.read_csv(csv_3_sec_path)\n",
    "\n",
    "# Display the first few rows of each dataset\n",
    "print(\"30-sec Dataset:\")\n",
    "print(features_30_sec_df.head())\n",
    "\n",
    "print(\"\\n3-sec Dataset:\")\n",
    "print(features_3_sec_df.head())"
   ]
  },
  {
   "cell_type": "code",
   "execution_count": 41,
   "id": "072a4609-42e8-4c4f-9b9c-0cc6b39eb968",
   "metadata": {},
   "outputs": [
    {
     "name": "stdout",
     "output_type": "stream",
     "text": [
      "Filtered 30-sec Dataset:\n",
      "          filename  chroma_stft_mean  rms_mean  spectral_centroid_mean  \\\n",
      "0  blues.00000.wav          0.350088  0.130228             1784.165850   \n",
      "1  blues.00001.wav          0.340914  0.095948             1530.176679   \n",
      "2  blues.00002.wav          0.363637  0.175570             1552.811865   \n",
      "3  blues.00003.wav          0.404785  0.141093             1070.106615   \n",
      "4  blues.00004.wav          0.308526  0.091529             1835.004266   \n",
      "\n",
      "   spectral_bandwidth_mean  rolloff_mean  zero_crossing_rate_mean       tempo  \\\n",
      "0              2002.449060   3805.839606                 0.083045  123.046875   \n",
      "1              2039.036516   3550.522098                 0.056040   67.999589   \n",
      "2              1747.702312   3042.260232                 0.076291  161.499023   \n",
      "3              1596.412872   2184.745799                 0.033309   63.024009   \n",
      "4              1748.172116   3579.757627                 0.101461  135.999178   \n",
      "\n",
      "   mfcc1_mean  mfcc2_mean  mfcc3_mean  mfcc4_mean  label  \n",
      "0 -113.570648  121.571793  -19.168142   42.366421  blues  \n",
      "1 -207.501694  123.991264    8.955127   35.877647  blues  \n",
      "2  -90.722595  140.446304  -29.093889   31.684334  blues  \n",
      "3 -199.544205  150.090897    5.662678   26.859079  blues  \n",
      "4 -160.337708  126.219635  -35.587811   22.148071  blues  \n",
      "\n",
      "Filtered 3-sec Dataset:\n",
      "            filename  chroma_stft_mean  rms_mean  spectral_centroid_mean  \\\n",
      "0  blues.00000.0.wav          0.335406  0.130405             1773.065032   \n",
      "1  blues.00000.1.wav          0.343065  0.112699             1816.693777   \n",
      "2  blues.00000.2.wav          0.346815  0.132003             1788.539719   \n",
      "3  blues.00000.3.wav          0.363639  0.132565             1655.289045   \n",
      "4  blues.00000.4.wav          0.335579  0.143289             1630.656199   \n",
      "\n",
      "   spectral_bandwidth_mean  rolloff_mean  zero_crossing_rate_mean       tempo  \\\n",
      "0              1972.744388   3714.560359                 0.081851  129.199219   \n",
      "1              2010.051501   3869.682242                 0.087173  123.046875   \n",
      "2              2084.565132   3997.639160                 0.071383  123.046875   \n",
      "3              1960.039988   3568.300218                 0.069426  123.046875   \n",
      "4              1948.503884   3469.992864                 0.070095  123.046875   \n",
      "\n",
      "   mfcc1_mean  mfcc2_mean  mfcc3_mean  mfcc4_mean  label  \n",
      "0 -118.627914  125.083626  -23.443724   41.321484  blues  \n",
      "1 -125.590706  122.421227  -20.718019   50.128387  blues  \n",
      "2 -132.441940  115.085175  -14.811666   50.189293  blues  \n",
      "3 -118.231087  132.116501  -18.758335   39.769306  blues  \n",
      "4 -105.968376  134.643646  -19.961748   40.171753  blues  \n"
     ]
    }
   ],
   "source": [
    "important_columns = [\n",
    "    'filename', 'chroma_stft_mean', 'rms_mean', 'spectral_centroid_mean',\n",
    "    'spectral_bandwidth_mean', 'rolloff_mean', 'zero_crossing_rate_mean',\n",
    "    'tempo', 'mfcc1_mean', 'mfcc2_mean', 'mfcc3_mean', 'mfcc4_mean', 'label'\n",
    "]\n",
    "\n",
    "# Filter datasets\n",
    "filtered_30_sec_df = features_30_sec_df[important_columns]\n",
    "filtered_3_sec_df = features_3_sec_df[important_columns]\n",
    "\n",
    "print(\"Filtered 30-sec Dataset:\")\n",
    "print(filtered_30_sec_df.head())\n",
    "\n",
    "print(\"\\nFiltered 3-sec Dataset:\")\n",
    "print(filtered_3_sec_df.head())"
   ]
  },
  {
   "cell_type": "code",
   "execution_count": 26,
   "id": "c97d0983-cffa-4c6e-8125-57c28e9b37c9",
   "metadata": {},
   "outputs": [
    {
     "name": "stdout",
     "output_type": "stream",
     "text": [
      "Data saved to database.\n"
     ]
    }
   ],
   "source": [
    "# Create a SQLite engine\n",
    "db_path = os.path.join(base_path, \"music_genre_classification.db\")\n",
    "engine = create_engine(f'sqlite:///{db_path}')\n",
    "\n",
    "# Save datasets to the database\n",
    "filtered_30_sec_df.to_sql(\"features_30_sec\", con=engine, if_exists='replace', index=False)\n",
    "filtered_3_sec_df.to_sql(\"features_3_sec\", con=engine, if_exists='replace', index=False)\n",
    "\n",
    "print(\"Data saved to database.\")"
   ]
  },
  {
   "cell_type": "code",
   "execution_count": 27,
   "id": "8a0c7eaa-08be-44ed-b4bf-852f990aa5b7",
   "metadata": {},
   "outputs": [
    {
     "name": "stdout",
     "output_type": "stream",
     "text": [
      "Sample Data from SQL (30-sec dataset):\n",
      "          filename  chroma_stft_mean  rms_mean  spectral_centroid_mean  \\\n",
      "0  blues.00000.wav          0.350088  0.130228             1784.165850   \n",
      "1  blues.00001.wav          0.340914  0.095948             1530.176679   \n",
      "2  blues.00002.wav          0.363637  0.175570             1552.811865   \n",
      "3  blues.00003.wav          0.404785  0.141093             1070.106615   \n",
      "4  blues.00004.wav          0.308526  0.091529             1835.004266   \n",
      "5  blues.00005.wav          0.302456  0.103494             1831.993940   \n",
      "6  blues.00006.wav          0.291328  0.141874             1459.366472   \n",
      "7  blues.00007.wav          0.307955  0.131822             1451.667066   \n",
      "8  blues.00008.wav          0.408879  0.142416             1719.368948   \n",
      "9  blues.00009.wav          0.273950  0.081314             1817.150863   \n",
      "\n",
      "   spectral_bandwidth_mean  rolloff_mean  zero_crossing_rate_mean       tempo  \\\n",
      "0              2002.449060   3805.839606                 0.083045  123.046875   \n",
      "1              2039.036516   3550.522098                 0.056040   67.999589   \n",
      "2              1747.702312   3042.260232                 0.076291  161.499023   \n",
      "3              1596.412872   2184.745799                 0.033309   63.024009   \n",
      "4              1748.172116   3579.757627                 0.101461  135.999178   \n",
      "5              1729.653287   3481.517592                 0.094042   69.837416   \n",
      "6              1389.009131   2795.610963                 0.073052   71.777344   \n",
      "7              1577.270941   2954.836760                 0.061442   92.285156   \n",
      "8              2031.740381   3782.316288                 0.064025   83.354335   \n",
      "9              1973.773306   3943.490565                 0.079175   80.749512   \n",
      "\n",
      "   mfcc1_mean  mfcc2_mean  mfcc3_mean  mfcc4_mean  label  \n",
      "0 -113.570648  121.571793  -19.168142   42.366421  blues  \n",
      "1 -207.501694  123.991264    8.955127   35.877647  blues  \n",
      "2  -90.722595  140.446304  -29.093889   31.684334  blues  \n",
      "3 -199.544205  150.090897    5.662678   26.859079  blues  \n",
      "4 -160.337708  126.219635  -35.587811   22.148071  blues  \n",
      "5 -177.774246  118.205482  -17.565880   30.762398  blues  \n",
      "6 -190.052368  130.289078  -36.369534   33.029034  blues  \n",
      "7 -179.347137  136.469009  -26.673138   39.984241  blues  \n",
      "8 -121.363945  122.506668  -14.738196   46.131065  blues  \n",
      "9 -213.239990  115.165604  -11.693431   39.014271  blues  \n"
     ]
    }
   ],
   "source": [
    "# Query and display data\n",
    "query = \"SELECT * FROM features_30_sec LIMIT 10\"\n",
    "result = pd.read_sql(query, con=engine)\n",
    "print(\"Sample Data from SQL (30-sec dataset):\")\n",
    "print(result)"
   ]
  },
  {
   "cell_type": "code",
   "execution_count": 28,
   "id": "3b445278-2d42-475b-a67c-5d0e7adabbdd",
   "metadata": {},
   "outputs": [],
   "source": [
    "# Encode labels and split data\n",
    "X = filtered_30_sec_df.drop(columns=['filename', 'label'])\n",
    "y = pd.factorize(filtered_30_sec_df['label'])[0]\n",
    "\n",
    "# Standardize features\n",
    "scaler = StandardScaler()\n",
    "X_scaled = scaler.fit_transform(X)\n",
    "\n",
    "# Train-test split\n",
    "X_train, X_test, y_train, y_test = train_test_split(X_scaled, y, test_size=0.2, random_state=42)\n",
    "\n",
    "# One-hot encode labels for neural network\n",
    "y_train_onehot = to_categorical(y_train)\n",
    "y_test_onehot = to_categorical(y_test)"
   ]
  },
  {
   "cell_type": "code",
   "execution_count": 29,
   "id": "2248d46d-8fa8-4b15-9d33-f703c9e411d9",
   "metadata": {},
   "outputs": [
    {
     "name": "stdout",
     "output_type": "stream",
     "text": [
      "Epoch 1/30\n",
      "\u001b[1m20/20\u001b[0m \u001b[32m━━━━━━━━━━━━━━━━━━━━\u001b[0m\u001b[37m\u001b[0m \u001b[1m1s\u001b[0m 16ms/step - accuracy: 0.1509 - loss: 2.2598 - val_accuracy: 0.3438 - val_loss: 1.9558\n",
      "Epoch 2/30\n",
      "\u001b[1m20/20\u001b[0m \u001b[32m━━━━━━━━━━━━━━━━━━━━\u001b[0m\u001b[37m\u001b[0m \u001b[1m0s\u001b[0m 10ms/step - accuracy: 0.3114 - loss: 1.9455 - val_accuracy: 0.3250 - val_loss: 1.7919\n",
      "Epoch 3/30\n",
      "\u001b[1m20/20\u001b[0m \u001b[32m━━━━━━━━━━━━━━━━━━━━\u001b[0m\u001b[37m\u001b[0m \u001b[1m0s\u001b[0m 10ms/step - accuracy: 0.3672 - loss: 1.8293 - val_accuracy: 0.3688 - val_loss: 1.6846\n",
      "Epoch 4/30\n",
      "\u001b[1m20/20\u001b[0m \u001b[32m━━━━━━━━━━━━━━━━━━━━\u001b[0m\u001b[37m\u001b[0m \u001b[1m0s\u001b[0m 9ms/step - accuracy: 0.3700 - loss: 1.7355 - val_accuracy: 0.4062 - val_loss: 1.6040\n",
      "Epoch 5/30\n",
      "\u001b[1m20/20\u001b[0m \u001b[32m━━━━━━━━━━━━━━━━━━━━\u001b[0m\u001b[37m\u001b[0m \u001b[1m0s\u001b[0m 9ms/step - accuracy: 0.4240 - loss: 1.6285 - val_accuracy: 0.4187 - val_loss: 1.5489\n",
      "Epoch 6/30\n",
      "\u001b[1m20/20\u001b[0m \u001b[32m━━━━━━━━━━━━━━━━━━━━\u001b[0m\u001b[37m\u001b[0m \u001b[1m0s\u001b[0m 9ms/step - accuracy: 0.3958 - loss: 1.6371 - val_accuracy: 0.4250 - val_loss: 1.4999\n",
      "Epoch 7/30\n",
      "\u001b[1m20/20\u001b[0m \u001b[32m━━━━━━━━━━━━━━━━━━━━\u001b[0m\u001b[37m\u001b[0m \u001b[1m0s\u001b[0m 9ms/step - accuracy: 0.4695 - loss: 1.4597 - val_accuracy: 0.4375 - val_loss: 1.4666\n",
      "Epoch 8/30\n",
      "\u001b[1m20/20\u001b[0m \u001b[32m━━━━━━━━━━━━━━━━━━━━\u001b[0m\u001b[37m\u001b[0m \u001b[1m0s\u001b[0m 8ms/step - accuracy: 0.4244 - loss: 1.5675 - val_accuracy: 0.4688 - val_loss: 1.4227\n",
      "Epoch 9/30\n",
      "\u001b[1m20/20\u001b[0m \u001b[32m━━━━━━━━━━━━━━━━━━━━\u001b[0m\u001b[37m\u001b[0m \u001b[1m0s\u001b[0m 5ms/step - accuracy: 0.4913 - loss: 1.4447 - val_accuracy: 0.4688 - val_loss: 1.3915\n",
      "Epoch 10/30\n",
      "\u001b[1m20/20\u001b[0m \u001b[32m━━━━━━━━━━━━━━━━━━━━\u001b[0m\u001b[37m\u001b[0m \u001b[1m0s\u001b[0m 5ms/step - accuracy: 0.4602 - loss: 1.4641 - val_accuracy: 0.4938 - val_loss: 1.3748\n",
      "Epoch 11/30\n",
      "\u001b[1m20/20\u001b[0m \u001b[32m━━━━━━━━━━━━━━━━━━━━\u001b[0m\u001b[37m\u001b[0m \u001b[1m0s\u001b[0m 5ms/step - accuracy: 0.5009 - loss: 1.3821 - val_accuracy: 0.5125 - val_loss: 1.3418\n",
      "Epoch 12/30\n",
      "\u001b[1m20/20\u001b[0m \u001b[32m━━━━━━━━━━━━━━━━━━━━\u001b[0m\u001b[37m\u001b[0m \u001b[1m0s\u001b[0m 5ms/step - accuracy: 0.5097 - loss: 1.3374 - val_accuracy: 0.5188 - val_loss: 1.3246\n",
      "Epoch 13/30\n",
      "\u001b[1m20/20\u001b[0m \u001b[32m━━━━━━━━━━━━━━━━━━━━\u001b[0m\u001b[37m\u001b[0m \u001b[1m0s\u001b[0m 5ms/step - accuracy: 0.4909 - loss: 1.3743 - val_accuracy: 0.5562 - val_loss: 1.2925\n",
      "Epoch 14/30\n",
      "\u001b[1m20/20\u001b[0m \u001b[32m━━━━━━━━━━━━━━━━━━━━\u001b[0m\u001b[37m\u001b[0m \u001b[1m0s\u001b[0m 5ms/step - accuracy: 0.5024 - loss: 1.3374 - val_accuracy: 0.5437 - val_loss: 1.2871\n",
      "Epoch 15/30\n",
      "\u001b[1m20/20\u001b[0m \u001b[32m━━━━━━━━━━━━━━━━━━━━\u001b[0m\u001b[37m\u001b[0m \u001b[1m0s\u001b[0m 5ms/step - accuracy: 0.5417 - loss: 1.2877 - val_accuracy: 0.5500 - val_loss: 1.2638\n",
      "Epoch 16/30\n",
      "\u001b[1m20/20\u001b[0m \u001b[32m━━━━━━━━━━━━━━━━━━━━\u001b[0m\u001b[37m\u001b[0m \u001b[1m0s\u001b[0m 5ms/step - accuracy: 0.5027 - loss: 1.3643 - val_accuracy: 0.5437 - val_loss: 1.2595\n",
      "Epoch 17/30\n",
      "\u001b[1m20/20\u001b[0m \u001b[32m━━━━━━━━━━━━━━━━━━━━\u001b[0m\u001b[37m\u001b[0m \u001b[1m0s\u001b[0m 5ms/step - accuracy: 0.5405 - loss: 1.2466 - val_accuracy: 0.5562 - val_loss: 1.2525\n",
      "Epoch 18/30\n",
      "\u001b[1m20/20\u001b[0m \u001b[32m━━━━━━━━━━━━━━━━━━━━\u001b[0m\u001b[37m\u001b[0m \u001b[1m0s\u001b[0m 5ms/step - accuracy: 0.4977 - loss: 1.2925 - val_accuracy: 0.5750 - val_loss: 1.2299\n",
      "Epoch 19/30\n",
      "\u001b[1m20/20\u001b[0m \u001b[32m━━━━━━━━━━━━━━━━━━━━\u001b[0m\u001b[37m\u001b[0m \u001b[1m0s\u001b[0m 5ms/step - accuracy: 0.5326 - loss: 1.2316 - val_accuracy: 0.5750 - val_loss: 1.2317\n",
      "Epoch 20/30\n",
      "\u001b[1m20/20\u001b[0m \u001b[32m━━━━━━━━━━━━━━━━━━━━\u001b[0m\u001b[37m\u001b[0m \u001b[1m0s\u001b[0m 8ms/step - accuracy: 0.5432 - loss: 1.2796 - val_accuracy: 0.5875 - val_loss: 1.2170\n",
      "Epoch 21/30\n",
      "\u001b[1m20/20\u001b[0m \u001b[32m━━━━━━━━━━━━━━━━━━━━\u001b[0m\u001b[37m\u001b[0m \u001b[1m0s\u001b[0m 5ms/step - accuracy: 0.5401 - loss: 1.2539 - val_accuracy: 0.5688 - val_loss: 1.2084\n",
      "Epoch 22/30\n",
      "\u001b[1m20/20\u001b[0m \u001b[32m━━━━━━━━━━━━━━━━━━━━\u001b[0m\u001b[37m\u001b[0m \u001b[1m0s\u001b[0m 5ms/step - accuracy: 0.5955 - loss: 1.1921 - val_accuracy: 0.5813 - val_loss: 1.2081\n",
      "Epoch 23/30\n",
      "\u001b[1m20/20\u001b[0m \u001b[32m━━━━━━━━━━━━━━━━━━━━\u001b[0m\u001b[37m\u001b[0m \u001b[1m0s\u001b[0m 5ms/step - accuracy: 0.5857 - loss: 1.2038 - val_accuracy: 0.5688 - val_loss: 1.1948\n",
      "Epoch 24/30\n",
      "\u001b[1m20/20\u001b[0m \u001b[32m━━━━━━━━━━━━━━━━━━━━\u001b[0m\u001b[37m\u001b[0m \u001b[1m0s\u001b[0m 5ms/step - accuracy: 0.5397 - loss: 1.2224 - val_accuracy: 0.5813 - val_loss: 1.1911\n",
      "Epoch 25/30\n",
      "\u001b[1m20/20\u001b[0m \u001b[32m━━━━━━━━━━━━━━━━━━━━\u001b[0m\u001b[37m\u001b[0m \u001b[1m0s\u001b[0m 5ms/step - accuracy: 0.5594 - loss: 1.2230 - val_accuracy: 0.6000 - val_loss: 1.1733\n",
      "Epoch 26/30\n",
      "\u001b[1m20/20\u001b[0m \u001b[32m━━━━━━━━━━━━━━━━━━━━\u001b[0m\u001b[37m\u001b[0m \u001b[1m0s\u001b[0m 7ms/step - accuracy: 0.5684 - loss: 1.1824 - val_accuracy: 0.5938 - val_loss: 1.1728\n",
      "Epoch 27/30\n",
      "\u001b[1m20/20\u001b[0m \u001b[32m━━━━━━━━━━━━━━━━━━━━\u001b[0m\u001b[37m\u001b[0m \u001b[1m0s\u001b[0m 6ms/step - accuracy: 0.5832 - loss: 1.1831 - val_accuracy: 0.6125 - val_loss: 1.1752\n",
      "Epoch 28/30\n",
      "\u001b[1m20/20\u001b[0m \u001b[32m━━━━━━━━━━━━━━━━━━━━\u001b[0m\u001b[37m\u001b[0m \u001b[1m0s\u001b[0m 5ms/step - accuracy: 0.6019 - loss: 1.1641 - val_accuracy: 0.5813 - val_loss: 1.1731\n",
      "Epoch 29/30\n",
      "\u001b[1m20/20\u001b[0m \u001b[32m━━━━━━━━━━━━━━━━━━━━\u001b[0m\u001b[37m\u001b[0m \u001b[1m0s\u001b[0m 5ms/step - accuracy: 0.5608 - loss: 1.2019 - val_accuracy: 0.6125 - val_loss: 1.1744\n",
      "Epoch 30/30\n",
      "\u001b[1m20/20\u001b[0m \u001b[32m━━━━━━━━━━━━━━━━━━━━\u001b[0m\u001b[37m\u001b[0m \u001b[1m0s\u001b[0m 5ms/step - accuracy: 0.5819 - loss: 1.1558 - val_accuracy: 0.6000 - val_loss: 1.1622\n"
     ]
    }
   ],
   "source": [
    "# Build a neural network model\n",
    "from tensorflow.keras import Input\n",
    "model = Sequential([\n",
    "    Input(shape=(X_train.shape[1],)),\n",
    "    Dense(128, activation='relu'),\n",
    "    Dropout(0.3),\n",
    "    Dense(64, activation='relu'),\n",
    "    Dropout(0.3),\n",
    "    Dense(y_train_onehot.shape[1], activation='softmax')\n",
    "])\n",
    "\n",
    "# Compile the model\n",
    "model.compile(optimizer='adam', loss='categorical_crossentropy', metrics=['accuracy'])\n",
    "\n",
    "# Train the model\n",
    "history = model.fit(X_train, y_train_onehot, epochs=30, batch_size=32, validation_split=0.2)"
   ]
  },
  {
   "cell_type": "code",
   "execution_count": 10,
   "id": "6398e915-7ed0-4198-8872-d40e831d8094",
   "metadata": {},
   "outputs": [
    {
     "name": "stdout",
     "output_type": "stream",
     "text": [
      "\u001b[1m7/7\u001b[0m \u001b[32m━━━━━━━━━━━━━━━━━━━━\u001b[0m\u001b[37m\u001b[0m \u001b[1m0s\u001b[0m 11ms/step\n",
      "Classification Report:\n",
      "              precision    recall  f1-score   support\n",
      "\n",
      "           0       0.31      0.40      0.35        20\n",
      "           1       0.81      1.00      0.90        13\n",
      "           2       0.33      0.11      0.17        27\n",
      "           3       0.47      0.43      0.45        21\n",
      "           4       0.25      0.27      0.26        15\n",
      "           5       0.53      0.73      0.62        22\n",
      "           6       0.54      0.80      0.65        25\n",
      "           7       0.47      0.54      0.50        13\n",
      "           8       0.38      0.26      0.31        23\n",
      "           9       0.25      0.19      0.22        21\n",
      "\n",
      "    accuracy                           0.45       200\n",
      "   macro avg       0.43      0.47      0.44       200\n",
      "weighted avg       0.42      0.45      0.42       200\n",
      "\n",
      "Model Accuracy: 0.45\n"
     ]
    }
   ],
   "source": [
    "# Evaluate on test data\n",
    "y_pred = np.argmax(model.predict(X_test), axis=1)\n",
    "print(\"Classification Report:\")\n",
    "print(classification_report(y_test, y_pred))\n",
    "\n",
    "# Accuracy\n",
    "accuracy = accuracy_score(y_test, y_pred)\n",
    "print(f\"Model Accuracy: {accuracy:.2f}\")"
   ]
  },
  {
   "cell_type": "code",
   "execution_count": null,
   "id": "2d778532-6918-4615-be7e-9cf0abdc8c39",
   "metadata": {},
   "outputs": [],
   "source": [
    "# Plot training history\n",
    "plt.figure(figsize=(12, 6))\n",
    "plt.plot(history.history['accuracy'], label='Training Accuracy')\n",
    "plt.plot(history.history['val_accuracy'], label='Validation Accuracy')\n",
    "plt.xlabel('Epochs')\n",
    "plt.ylabel('Accuracy')\n",
    "plt.legend()\n",
    "plt.title('Training and Validation Accuracy')\n",
    "plt.show()"
   ]
  },
  {
   "cell_type": "markdown",
   "id": "e4b70a8e-a2e5-4b21-be0f-e999dc4e994a",
   "metadata": {},
   "source": [
    "# CNN Model for Spectrograms\n",
    "This will use the images that are stored in images_original to train in Convolutional Neural Network."
   ]
  },
  {
   "cell_type": "code",
   "execution_count": 31,
   "id": "543edf73-4275-4e7c-9564-c98a0a362eaa",
   "metadata": {},
   "outputs": [],
   "source": [
    "import os\n",
    "import numpy as np\n",
    "import pandas as pd\n",
    "from tensorflow.keras.utils import to_categorical\n",
    "from tensorflow.keras.models import Sequential\n",
    "from tensorflow.keras.layers import Conv2D, MaxPooling2D, Flatten, Dropout, Dense\n",
    "from tensorflow.keras.preprocessing.image import ImageDataGenerator\n",
    "from sklearn.model_selection import train_test_split"
   ]
  },
  {
   "cell_type": "code",
   "execution_count": 32,
   "id": "7b2c5812-5990-44dc-a5d9-bb87a3be9b22",
   "metadata": {},
   "outputs": [],
   "source": [
    "from tensorflow.keras.preprocessing.image import load_img, img_to_array\n",
    "\n",
    "# Paths\n",
    "images_path = \"/home/aev64/cs210/Course Project - Final Submissions/images_original\"\n",
    "\n",
    "# Image dimensions\n",
    "img_height, img_width = 128, 128  # Resize all images to this dimension\n",
    "\n",
    "# Prepare data\n",
    "labels = []\n",
    "images = []\n",
    "\n",
    "# Load images and their labels\n",
    "valid_extensions = (\".png\", \".jpg\", \".jpeg\")  # Add other valid extensions if needed\n",
    "\n",
    "for genre_folder in os.listdir(images_path):\n",
    "    genre_path = os.path.join(images_path, genre_folder)\n",
    "    if os.path.isdir(genre_path):  # Ensure it is a folder\n",
    "        for img_file in os.listdir(genre_path):\n",
    "            img_path = os.path.join(genre_path, img_file)\n",
    "            # Skip non-image files or directories\n",
    "            if img_file.endswith(valid_extensions):\n",
    "                img = load_img(img_path, target_size=(img_height, img_width))\n",
    "                img_array = img_to_array(img)\n",
    "                images.append(img_array)\n",
    "                labels.append(genre_folder)\n",
    "                \n",
    "# Convert to numpy arrays\n",
    "images = np.array(images)\n",
    "labels = np.array(labels)\n",
    "\n",
    "# Normalize image data\n",
    "images = images / 255.0\n",
    "\n",
    "# Encode labels\n",
    "from sklearn.preprocessing import LabelEncoder\n",
    "\n",
    "encoder = LabelEncoder()\n",
    "labels_encoded = encoder.fit_transform(labels)\n",
    "labels_onehot = to_categorical(labels_encoded)\n",
    "\n",
    "# Split dataset\n",
    "X_train, X_test, y_train, y_test = train_test_split(images, labels_onehot, test_size=0.2, random_state=42)\n"
   ]
  },
  {
   "cell_type": "code",
   "execution_count": 33,
   "id": "b6fd61bd-059f-42d4-9253-2447d040683b",
   "metadata": {},
   "outputs": [
    {
     "name": "stdout",
     "output_type": "stream",
     "text": [
      "Epoch 1/30\n",
      "\u001b[1m20/20\u001b[0m \u001b[32m━━━━━━━━━━━━━━━━━━━━\u001b[0m\u001b[37m\u001b[0m \u001b[1m5s\u001b[0m 202ms/step - accuracy: 0.0993 - loss: 4.2841 - val_accuracy: 0.1187 - val_loss: 2.3019\n",
      "Epoch 2/30\n",
      "\u001b[1m20/20\u001b[0m \u001b[32m━━━━━━━━━━━━━━━━━━━━\u001b[0m\u001b[37m\u001b[0m \u001b[1m4s\u001b[0m 174ms/step - accuracy: 0.1134 - loss: 2.3011 - val_accuracy: 0.1688 - val_loss: 2.2989\n",
      "Epoch 3/30\n",
      "\u001b[1m20/20\u001b[0m \u001b[32m━━━━━━━━━━━━━━━━━━━━\u001b[0m\u001b[37m\u001b[0m \u001b[1m4s\u001b[0m 197ms/step - accuracy: 0.1728 - loss: 2.2743 - val_accuracy: 0.2313 - val_loss: 2.1464\n",
      "Epoch 4/30\n",
      "\u001b[1m20/20\u001b[0m \u001b[32m━━━━━━━━━━━━━━━━━━━━\u001b[0m\u001b[37m\u001b[0m \u001b[1m3s\u001b[0m 172ms/step - accuracy: 0.1732 - loss: 2.1744 - val_accuracy: 0.2313 - val_loss: 2.0635\n",
      "Epoch 5/30\n",
      "\u001b[1m20/20\u001b[0m \u001b[32m━━━━━━━━━━━━━━━━━━━━\u001b[0m\u001b[37m\u001b[0m \u001b[1m3s\u001b[0m 170ms/step - accuracy: 0.1963 - loss: 2.1166 - val_accuracy: 0.3063 - val_loss: 2.0218\n",
      "Epoch 6/30\n",
      "\u001b[1m20/20\u001b[0m \u001b[32m━━━━━━━━━━━━━━━━━━━━\u001b[0m\u001b[37m\u001b[0m \u001b[1m4s\u001b[0m 179ms/step - accuracy: 0.2778 - loss: 2.0329 - val_accuracy: 0.3375 - val_loss: 1.9542\n",
      "Epoch 7/30\n",
      "\u001b[1m20/20\u001b[0m \u001b[32m━━━━━━━━━━━━━━━━━━━━\u001b[0m\u001b[37m\u001b[0m \u001b[1m4s\u001b[0m 180ms/step - accuracy: 0.2762 - loss: 2.0275 - val_accuracy: 0.3187 - val_loss: 1.9036\n",
      "Epoch 8/30\n",
      "\u001b[1m20/20\u001b[0m \u001b[32m━━━━━━━━━━━━━━━━━━━━\u001b[0m\u001b[37m\u001b[0m \u001b[1m3s\u001b[0m 168ms/step - accuracy: 0.2677 - loss: 1.9821 - val_accuracy: 0.3938 - val_loss: 1.8089\n",
      "Epoch 9/30\n",
      "\u001b[1m20/20\u001b[0m \u001b[32m━━━━━━━━━━━━━━━━━━━━\u001b[0m\u001b[37m\u001b[0m \u001b[1m3s\u001b[0m 167ms/step - accuracy: 0.3170 - loss: 1.8319 - val_accuracy: 0.3562 - val_loss: 1.7915\n",
      "Epoch 10/30\n",
      "\u001b[1m20/20\u001b[0m \u001b[32m━━━━━━━━━━━━━━━━━━━━\u001b[0m\u001b[37m\u001b[0m \u001b[1m3s\u001b[0m 168ms/step - accuracy: 0.3759 - loss: 1.7414 - val_accuracy: 0.3625 - val_loss: 1.7261\n",
      "Epoch 11/30\n",
      "\u001b[1m20/20\u001b[0m \u001b[32m━━━━━━━━━━━━━━━━━━━━\u001b[0m\u001b[37m\u001b[0m \u001b[1m3s\u001b[0m 168ms/step - accuracy: 0.3706 - loss: 1.6695 - val_accuracy: 0.4938 - val_loss: 1.6039\n",
      "Epoch 12/30\n",
      "\u001b[1m20/20\u001b[0m \u001b[32m━━━━━━━━━━━━━━━━━━━━\u001b[0m\u001b[37m\u001b[0m \u001b[1m4s\u001b[0m 179ms/step - accuracy: 0.4266 - loss: 1.5748 - val_accuracy: 0.4812 - val_loss: 1.5557\n",
      "Epoch 13/30\n",
      "\u001b[1m20/20\u001b[0m \u001b[32m━━━━━━━━━━━━━━━━━━━━\u001b[0m\u001b[37m\u001b[0m \u001b[1m3s\u001b[0m 166ms/step - accuracy: 0.4993 - loss: 1.4423 - val_accuracy: 0.4563 - val_loss: 1.4915\n",
      "Epoch 14/30\n",
      "\u001b[1m20/20\u001b[0m \u001b[32m━━━━━━━━━━━━━━━━━━━━\u001b[0m\u001b[37m\u001b[0m \u001b[1m3s\u001b[0m 173ms/step - accuracy: 0.5425 - loss: 1.2131 - val_accuracy: 0.4750 - val_loss: 1.4729\n",
      "Epoch 15/30\n",
      "\u001b[1m20/20\u001b[0m \u001b[32m━━━━━━━━━━━━━━━━━━━━\u001b[0m\u001b[37m\u001b[0m \u001b[1m3s\u001b[0m 167ms/step - accuracy: 0.5662 - loss: 1.2172 - val_accuracy: 0.4625 - val_loss: 1.4445\n",
      "Epoch 16/30\n",
      "\u001b[1m20/20\u001b[0m \u001b[32m━━━━━━━━━━━━━━━━━━━━\u001b[0m\u001b[37m\u001b[0m \u001b[1m3s\u001b[0m 164ms/step - accuracy: 0.6546 - loss: 1.0237 - val_accuracy: 0.5000 - val_loss: 1.4528\n",
      "Epoch 17/30\n",
      "\u001b[1m20/20\u001b[0m \u001b[32m━━━━━━━━━━━━━━━━━━━━\u001b[0m\u001b[37m\u001b[0m \u001b[1m3s\u001b[0m 166ms/step - accuracy: 0.6298 - loss: 1.0500 - val_accuracy: 0.4938 - val_loss: 1.3890\n",
      "Epoch 18/30\n",
      "\u001b[1m20/20\u001b[0m \u001b[32m━━━━━━━━━━━━━━━━━━━━\u001b[0m\u001b[37m\u001b[0m \u001b[1m5s\u001b[0m 167ms/step - accuracy: 0.6808 - loss: 0.8512 - val_accuracy: 0.5250 - val_loss: 1.4240\n",
      "Epoch 19/30\n",
      "\u001b[1m20/20\u001b[0m \u001b[32m━━━━━━━━━━━━━━━━━━━━\u001b[0m\u001b[37m\u001b[0m \u001b[1m3s\u001b[0m 166ms/step - accuracy: 0.6997 - loss: 0.8089 - val_accuracy: 0.5188 - val_loss: 1.3825\n",
      "Epoch 20/30\n",
      "\u001b[1m20/20\u001b[0m \u001b[32m━━━━━━━━━━━━━━━━━━━━\u001b[0m\u001b[37m\u001b[0m \u001b[1m3s\u001b[0m 165ms/step - accuracy: 0.7440 - loss: 0.6959 - val_accuracy: 0.5188 - val_loss: 1.4113\n",
      "Epoch 21/30\n",
      "\u001b[1m20/20\u001b[0m \u001b[32m━━━━━━━━━━━━━━━━━━━━\u001b[0m\u001b[37m\u001b[0m \u001b[1m3s\u001b[0m 167ms/step - accuracy: 0.7896 - loss: 0.6577 - val_accuracy: 0.5437 - val_loss: 1.4411\n",
      "Epoch 22/30\n",
      "\u001b[1m20/20\u001b[0m \u001b[32m━━━━━━━━━━━━━━━━━━━━\u001b[0m\u001b[37m\u001b[0m \u001b[1m3s\u001b[0m 169ms/step - accuracy: 0.7629 - loss: 0.6276 - val_accuracy: 0.5250 - val_loss: 1.4535\n",
      "Epoch 23/30\n",
      "\u001b[1m20/20\u001b[0m \u001b[32m━━━━━━━━━━━━━━━━━━━━\u001b[0m\u001b[37m\u001b[0m \u001b[1m3s\u001b[0m 171ms/step - accuracy: 0.8073 - loss: 0.5348 - val_accuracy: 0.5000 - val_loss: 1.5369\n",
      "Epoch 24/30\n",
      "\u001b[1m20/20\u001b[0m \u001b[32m━━━━━━━━━━━━━━━━━━━━\u001b[0m\u001b[37m\u001b[0m \u001b[1m3s\u001b[0m 170ms/step - accuracy: 0.8205 - loss: 0.5175 - val_accuracy: 0.5000 - val_loss: 1.5364\n",
      "Epoch 25/30\n",
      "\u001b[1m20/20\u001b[0m \u001b[32m━━━━━━━━━━━━━━━━━━━━\u001b[0m\u001b[37m\u001b[0m \u001b[1m3s\u001b[0m 171ms/step - accuracy: 0.8161 - loss: 0.4930 - val_accuracy: 0.4875 - val_loss: 1.7256\n",
      "Epoch 26/30\n",
      "\u001b[1m20/20\u001b[0m \u001b[32m━━━━━━━━━━━━━━━━━━━━\u001b[0m\u001b[37m\u001b[0m \u001b[1m3s\u001b[0m 165ms/step - accuracy: 0.8356 - loss: 0.4459 - val_accuracy: 0.4812 - val_loss: 1.5655\n",
      "Epoch 27/30\n",
      "\u001b[1m20/20\u001b[0m \u001b[32m━━━━━━━━━━━━━━━━━━━━\u001b[0m\u001b[37m\u001b[0m \u001b[1m3s\u001b[0m 167ms/step - accuracy: 0.8517 - loss: 0.4533 - val_accuracy: 0.5188 - val_loss: 1.6198\n",
      "Epoch 28/30\n",
      "\u001b[1m20/20\u001b[0m \u001b[32m━━━━━━━━━━━━━━━━━━━━\u001b[0m\u001b[37m\u001b[0m \u001b[1m5s\u001b[0m 170ms/step - accuracy: 0.8625 - loss: 0.4190 - val_accuracy: 0.4875 - val_loss: 1.6686\n",
      "Epoch 29/30\n",
      "\u001b[1m20/20\u001b[0m \u001b[32m━━━━━━━━━━━━━━━━━━━━\u001b[0m\u001b[37m\u001b[0m \u001b[1m3s\u001b[0m 169ms/step - accuracy: 0.8327 - loss: 0.4371 - val_accuracy: 0.5125 - val_loss: 1.7009\n",
      "Epoch 30/30\n",
      "\u001b[1m20/20\u001b[0m \u001b[32m━━━━━━━━━━━━━━━━━━━━\u001b[0m\u001b[37m\u001b[0m \u001b[1m3s\u001b[0m 172ms/step - accuracy: 0.8742 - loss: 0.3575 - val_accuracy: 0.5312 - val_loss: 1.7075\n"
     ]
    }
   ],
   "source": [
    "# Define CNN Model\n",
    "cnn_model = Sequential([\n",
    "    #Conv2D(32, (3, 3), activation='relu', input_shape=(img_height, img_width, 3)),\n",
    "    Input(shape=(img_height, img_width, 3)),\n",
    "    Conv2D(32, (3, 3), activation='relu'),\n",
    "    MaxPooling2D((2, 2)),\n",
    "    Dropout(0.3),\n",
    "    \n",
    "    Conv2D(64, (3, 3), activation='relu'),\n",
    "    MaxPooling2D((2, 2)),\n",
    "    Dropout(0.3),\n",
    "    \n",
    "    Flatten(),\n",
    "    Dense(128, activation='relu'),\n",
    "    Dropout(0.4),\n",
    "    Dense(labels_onehot.shape[1], activation='softmax')\n",
    "])\n",
    "\n",
    "cnn_model.compile(optimizer='adam', loss='categorical_crossentropy', metrics=['accuracy'])\n",
    "\n",
    "# Train the CNN\n",
    "cnn_history = cnn_model.fit(X_train, y_train, epochs=30, batch_size=32, validation_split=0.2)"
   ]
  },
  {
   "cell_type": "code",
   "execution_count": 15,
   "id": "e4d4b60c-a1db-418a-a881-c41498f0ad56",
   "metadata": {},
   "outputs": [
    {
     "name": "stdout",
     "output_type": "stream",
     "text": [
      "\u001b[1m7/7\u001b[0m \u001b[32m━━━━━━━━━━━━━━━━━━━━\u001b[0m\u001b[37m\u001b[0m \u001b[1m0s\u001b[0m 33ms/step - accuracy: 0.5294 - loss: 1.7662\n",
      "Test Accuracy: 0.52\n"
     ]
    }
   ],
   "source": [
    "# Evaluate on test data\n",
    "test_loss, test_acc = cnn_model.evaluate(X_test, y_test)\n",
    "print(f\"Test Accuracy: {test_acc:.2f}\")\n",
    "\n",
    "# Save the model\n",
    "#cnn_model.save(\"cnn_genre_classifier.h5\")"
   ]
  },
  {
   "cell_type": "markdown",
   "id": "22afd724-e133-4fbe-8a30-e82cfbfcc8b5",
   "metadata": {},
   "source": [
    "# SQL Queries\n",
    "For more information, query the deatures CSV files using SQL."
   ]
  },
  {
   "cell_type": "code",
   "execution_count": 34,
   "id": "5de75393-5b01-4df3-8223-55f8e96d675c",
   "metadata": {},
   "outputs": [
    {
     "data": {
      "text/plain": [
       "9990"
      ]
     },
     "execution_count": 34,
     "metadata": {},
     "output_type": "execute_result"
    }
   ],
   "source": [
    "import sqlite3\n",
    "\n",
    "# Create SQLite database\n",
    "conn = sqlite3.connect('music_features.db')\n",
    "\n",
    "# Load CSV files into SQLite\n",
    "features_30_sec = pd.read_csv('/home/aev64/cs210/Course Project - Final Submissions/features_30_sec.csv')\n",
    "features_30_sec.to_sql('features_30_sec', conn, if_exists='replace', index=False)\n",
    "\n",
    "features_3_sec = pd.read_csv('/home/aev64/cs210/Course Project - Final Submissions/features_3_sec.csv')\n",
    "features_3_sec.to_sql('features_3_sec', conn, if_exists='replace', index=False)"
   ]
  },
  {
   "cell_type": "markdown",
   "id": "26daa7a5-8845-41f5-bca0-6df12b0869bd",
   "metadata": {},
   "source": [
    "This is the average tempo for each genre."
   ]
  },
  {
   "cell_type": "code",
   "execution_count": 35,
   "id": "832b587c-7014-4492-9ae7-9ce6c2ccdb49",
   "metadata": {},
   "outputs": [
    {
     "name": "stdout",
     "output_type": "stream",
     "text": [
      "       label   avg_tempo\n",
      "0     reggae  129.279738\n",
      "1  classical  127.920952\n",
      "2      metal  124.873912\n",
      "3      blues  120.742207\n",
      "4      disco  120.341798\n",
      "5       rock  120.262441\n",
      "6       jazz  115.068143\n",
      "7     hiphop  112.945646\n",
      "8        pop  112.759957\n",
      "9    country  110.858840\n"
     ]
    }
   ],
   "source": [
    "query = \"\"\"\n",
    "SELECT label, AVG(tempo) as avg_tempo\n",
    "FROM features_30_sec\n",
    "GROUP BY label\n",
    "ORDER BY avg_tempo DESC\n",
    "\"\"\"\n",
    "avg_tempo_df = pd.read_sql(query, conn)\n",
    "print(avg_tempo_df)\n"
   ]
  },
  {
   "cell_type": "markdown",
   "id": "c22d2cca-8d6d-4d42-bcc6-b8cd72e13ce9",
   "metadata": {},
   "source": [
    "This will find the genre with the highest average spectral centroid."
   ]
  },
  {
   "cell_type": "code",
   "execution_count": 36,
   "id": "eabbdd6f-f145-40f0-bde6-2bda17a9f390",
   "metadata": {},
   "outputs": [
    {
     "name": "stdout",
     "output_type": "stream",
     "text": [
      "  label  avg_spectral_centroid\n",
      "0   pop            3073.549538\n"
     ]
    }
   ],
   "source": [
    "query = \"\"\"\n",
    "SELECT label, AVG(spectral_centroid_mean) as avg_spectral_centroid\n",
    "FROM features_30_sec\n",
    "GROUP BY label\n",
    "ORDER BY avg_spectral_centroid DESC\n",
    "LIMIT 1\n",
    "\"\"\"\n",
    "spectral_centroid_df = pd.read_sql(query, conn)\n",
    "print(spectral_centroid_df)"
   ]
  },
  {
   "cell_type": "markdown",
   "id": "bc34494c-5f72-4b1d-ab17-e9540ebd40c1",
   "metadata": {},
   "source": [
    "This will compare the variance of mfcc1_mean between 30-sec and 3 sec splits."
   ]
  },
  {
   "cell_type": "code",
   "execution_count": 37,
   "id": "5297d3b5-1d4f-42dc-8e83-6b52ab075611",
   "metadata": {},
   "outputs": [
    {
     "name": "stdout",
     "output_type": "stream",
     "text": [
      "   split_type      label  avg_mfcc1_var\n",
      "0      30_sec      blues    3659.266628\n",
      "1      30_sec  classical    5280.625733\n",
      "2      30_sec    country    3177.750647\n",
      "3      30_sec      disco    3229.308129\n",
      "4      30_sec     hiphop    4522.725272\n",
      "5      30_sec       jazz    3216.950083\n",
      "6      30_sec      metal    1572.232396\n",
      "7      30_sec        pop    4205.445833\n",
      "8      30_sec     reggae    5560.547677\n",
      "9      30_sec       rock    3053.901740\n",
      "10      3_sec      blues    3114.560509\n",
      "11      3_sec  classical    2260.820116\n",
      "12      3_sec    country    2317.972757\n",
      "13      3_sec      disco    2757.973455\n",
      "14      3_sec     hiphop    3805.259486\n",
      "15      3_sec       jazz    2312.682188\n",
      "16      3_sec      metal    1122.370102\n",
      "17      3_sec        pop    3243.221677\n",
      "18      3_sec     reggae    4960.702514\n",
      "19      3_sec       rock    2191.617434\n"
     ]
    }
   ],
   "source": [
    "query = \"\"\"\n",
    "SELECT '30_sec' as split_type, label, AVG(mfcc1_var) as avg_mfcc1_var\n",
    "FROM features_30_sec\n",
    "GROUP BY label\n",
    "UNION ALL\n",
    "SELECT '3_sec' as split_type, label, AVG(mfcc1_var) as avg_mfcc1_var\n",
    "FROM features_3_sec\n",
    "GROUP BY label\n",
    "\"\"\"\n",
    "mfcc1_comparison_df = pd.read_sql(query, conn)\n",
    "print(mfcc1_comparison_df)"
   ]
  },
  {
   "cell_type": "markdown",
   "id": "257664d5-ff51-4170-853b-91480c318415",
   "metadata": {},
   "source": [
    "This will show the top 3 genres with the highest average zero crossing rate mean."
   ]
  },
  {
   "cell_type": "code",
   "execution_count": 38,
   "id": "ef0062fd-5f1b-4166-b820-5cae0f4f995b",
   "metadata": {},
   "outputs": [
    {
     "name": "stdout",
     "output_type": "stream",
     "text": [
      "   label   avg_zcr\n",
      "0  metal  0.147463\n",
      "1    pop  0.133561\n",
      "2  disco  0.129367\n"
     ]
    }
   ],
   "source": [
    "query = \"\"\"\n",
    "SELECT label, AVG(zero_crossing_rate_mean) as avg_zcr\n",
    "FROM features_30_sec\n",
    "GROUP BY label\n",
    "ORDER BY avg_zcr DESC\n",
    "LIMIT 3\n",
    "\"\"\"\n",
    "top_genres_df = pd.read_sql(query, conn)\n",
    "print(top_genres_df)"
   ]
  },
  {
   "cell_type": "code",
   "execution_count": null,
   "id": "4040dfc9-191e-4110-9aab-d667317e395f",
   "metadata": {},
   "outputs": [],
   "source": []
  }
 ],
 "metadata": {
  "kernelspec": {
   "display_name": "Python 3 (ipykernel)",
   "language": "python",
   "name": "python3"
  },
  "language_info": {
   "codemirror_mode": {
    "name": "ipython",
    "version": 3
   },
   "file_extension": ".py",
   "mimetype": "text/x-python",
   "name": "python",
   "nbconvert_exporter": "python",
   "pygments_lexer": "ipython3",
   "version": "3.12.2"
  }
 },
 "nbformat": 4,
 "nbformat_minor": 5
}
